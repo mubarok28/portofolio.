{
 "cells": [
  {
   "cell_type": "code",
   "execution_count": 2,
   "metadata": {},
   "outputs": [],
   "source": [
    "import matplotlib.pyplot as plt\n",
    "import json\n",
    "import numpy as np\n",
    "import pandas as pd\n",
    "import requests"
   ]
  },
  {
   "cell_type": "code",
   "execution_count": 3,
   "metadata": {},
   "outputs": [],
   "source": [
    "def get_json(api_url):\n",
    "    response = requests.get(api_url)\n",
    "    if response.status_code == 200:\n",
    "        return json.loads(response.content.decode('utf-8'))\n",
    "    else:\n",
    "        return None"
   ]
  },
  {
   "cell_type": "code",
   "execution_count": 4,
   "metadata": {},
   "outputs": [
    {
     "name": "stdout",
     "output_type": "stream",
     "text": [
      "  country          last_update    cases  deaths  recovered\n",
      "0      US  2020-08-16T23:27:50  5401167  170019    1833067\n",
      "1      BR  2020-08-16T23:27:50  3340197  107852    2655017\n",
      "2      IN  2020-08-16T23:27:50  2589682   49980    1862258\n",
      "3      RU  2020-08-16T23:27:50   920719   15653     731444\n",
      "4      ZA  2020-08-16T23:27:50   587345   11839     472377\n"
     ]
    },
    {
     "name": "stderr",
     "output_type": "stream",
     "text": [
      "<ipython-input-4-ad35ddc27538>:3: FutureWarning: pandas.io.json.json_normalize is deprecated, use pandas.json_normalize instead\n",
      "  df_covid_worldwide = pd.io.json.json_normalize(get_json(covid_url))\n"
     ]
    }
   ],
   "source": [
    "record_date = '2020-08-17'\n",
    "covid_url = 'https://covid19-api.org/api/status?date='+ record_date\n",
    "df_covid_worldwide = pd.io.json.json_normalize(get_json(covid_url))\n",
    "print(df_covid_worldwide.head())"
   ]
  },
  {
   "cell_type": "code",
   "execution_count": 5,
   "metadata": {},
   "outputs": [
    {
     "name": "stdout",
     "output_type": "stream",
     "text": [
      "  country last_update    cases  deaths  recovered\n",
      "0      US  2020-08-16  5401167  170019    1833067\n",
      "1      BR  2020-08-16  3340197  107852    2655017\n",
      "2      IN  2020-08-16  2589682   49980    1862258\n",
      "3      RU  2020-08-16   920719   15653     731444\n",
      "4      ZA  2020-08-16   587345   11839     472377\n"
     ]
    }
   ],
   "source": [
    "df_covid_worldwide['last_update'] = pd.to_datetime(df_covid_worldwide['last_update'] , format='%Y-%m-%d %H:%M:%S')\n",
    "df_covid_worldwide['last_update'] = df_covid_worldwide['last_update'].apply(lambda x: x.date())\n",
    "print(df_covid_worldwide.head())"
   ]
  },
  {
   "cell_type": "code",
   "execution_count": 6,
   "metadata": {},
   "outputs": [
    {
     "name": "stdout",
     "output_type": "stream",
     "text": [
      "          name country\n",
      "0  Afghanistan      AF\n",
      "1      Albania      AL\n",
      "2      Algeria      DZ\n",
      "3      Andorra      AD\n",
      "4       Angola      AO\n"
     ]
    },
    {
     "name": "stderr",
     "output_type": "stream",
     "text": [
      "<ipython-input-6-51abaac8ca82>:2: FutureWarning: pandas.io.json.json_normalize is deprecated, use pandas.json_normalize instead\n",
      "  df_countries = pd.io.json.json_normalize(get_json(countries_url))\n"
     ]
    }
   ],
   "source": [
    "countries_url = 'https://covid19-api.org/api/countries'\n",
    "df_countries = pd.io.json.json_normalize(get_json(countries_url))\n",
    "df_countries=df_countries.rename(columns={'alpha2':'country'})\n",
    "df_countries=df_countries[['name','country']]\n",
    "print(df_countries.head())"
   ]
  },
  {
   "cell_type": "code",
   "execution_count": 7,
   "metadata": {},
   "outputs": [
    {
     "name": "stdout",
     "output_type": "stream",
     "text": [
      "  country last_update    cases  deaths  recovered                      name\n",
      "0      US  2020-08-16  5401167  170019    1833067  United States of America\n",
      "1      BR  2020-08-16  3340197  107852    2655017                    Brazil\n",
      "2      IN  2020-08-16  2589682   49980    1862258                     India\n",
      "3      RU  2020-08-16   920719   15653     731444        Russian Federation\n",
      "4      ZA  2020-08-16   587345   11839     472377              South Africa\n"
     ]
    }
   ],
   "source": [
    "df_covid_denormalized = pd.merge(df_covid_worldwide , df_countries , on='country')\n",
    "print(df_covid_denormalized.head())"
   ]
  },
  {
   "cell_type": "code",
   "execution_count": 8,
   "metadata": {},
   "outputs": [
    {
     "name": "stdout",
     "output_type": "stream",
     "text": [
      "  country last_update    cases  deaths  recovered                      name  \\\n",
      "0      US  2020-08-16  5401167  170019    1833067  United States of America   \n",
      "1      BR  2020-08-16  3340197  107852    2655017                    Brazil   \n",
      "2      IN  2020-08-16  2589682   49980    1862258                     India   \n",
      "3      RU  2020-08-16   920719   15653     731444        Russian Federation   \n",
      "4      ZA  2020-08-16   587345   11839     472377              South Africa   \n",
      "\n",
      "   fatality_ratio  \n",
      "0        0.031478  \n",
      "1        0.032289  \n",
      "2        0.019300  \n",
      "3        0.017001  \n",
      "4        0.020157  \n"
     ]
    }
   ],
   "source": [
    "#fatality ratio = death/case\n",
    "df_covid_denormalized['fatality_ratio'] = df_covid_denormalized['deaths'] / df_covid_denormalized['cases']\n",
    "print(df_covid_denormalized.head())"
   ]
  },
  {
   "cell_type": "code",
   "execution_count": 9,
   "metadata": {},
   "outputs": [
    {
     "name": "stdout",
     "output_type": "stream",
     "text": [
      "    country last_update   cases  deaths  recovered  \\\n",
      "134      YE  2020-08-16    1869     530       1013   \n",
      "11       GB  2020-08-16  320343   46791       1486   \n",
      "16       IT  2020-08-16  253915   35396     203786   \n",
      "36       BE  2020-08-16   77869    9935      17981   \n",
      "105      HU  2020-08-16    4916     608       3623   \n",
      "17       FR  2020-08-16  252965   30410      83993   \n",
      "6        MX  2020-08-16  517714   56543     418164   \n",
      "191      EH  2020-08-16      10       1          8   \n",
      "40       NL  2020-08-16   64451    6194        345   \n",
      "10       ES  2020-08-16  342813   28617     150376   \n",
      "153      TD  2020-08-16     956      76        865   \n",
      "23       CA  2020-08-16  124004    9074     110202   \n",
      "33       SE  2020-08-16   84294    5783          0   \n",
      "145      LR  2020-08-16    1257      82        788   \n",
      "65       IE  2020-08-16   27257    1774      23364   \n",
      "80       SD  2020-08-16   12314     798       6350   \n",
      "157      SM  2020-08-16     699      42        657   \n",
      "26       EC  2020-08-16  101542    6070      87022   \n",
      "148      NE  2020-08-16    1167      69       1078   \n",
      "9        IR  2020-08-16  343203   19639     297486   \n",
      "\n",
      "                                                  name  fatality_ratio  \n",
      "134                                              Yemen        0.283574  \n",
      "11   United Kingdom of Great Britain and Northern I...        0.146065  \n",
      "16                                               Italy        0.139401  \n",
      "36                                             Belgium        0.127586  \n",
      "105                                            Hungary        0.123678  \n",
      "17                                              France        0.120214  \n",
      "6                                               Mexico        0.109217  \n",
      "191                                     Western Sahara        0.100000  \n",
      "40                                         Netherlands        0.096104  \n",
      "10                                               Spain        0.083477  \n",
      "153                                               Chad        0.079498  \n",
      "23                                              Canada        0.073175  \n",
      "33                                              Sweden        0.068605  \n",
      "145                                            Liberia        0.065235  \n",
      "65                                             Ireland        0.065084  \n",
      "80                                               Sudan        0.064804  \n",
      "157                                         San Marino        0.060086  \n",
      "26                                             Ecuador        0.059778  \n",
      "148                                              Niger        0.059126  \n",
      "9                             Islamic Republic of Iran        0.057223  \n"
     ]
    }
   ],
   "source": [
    "df_top_20_fatality_rate = df_covid_denormalized.sort_values(by='fatality_ratio'  , ascending=False).head(20)\n",
    "print(df_top_20_fatality_rate)"
   ]
  },
  {
   "cell_type": "code",
   "execution_count": 10,
   "metadata": {},
   "outputs": [
    {
     "data": {
      "image/png": "[encoded data removed]",
      "text/plain": [
       "<Figure size 1440x576 with 1 Axes>"
      ]
     },
     "metadata": {
      "needs_background": "light"
     },
     "output_type": "display_data"
    }
   ],
   "source": [
    "#visualization\n",
    "x = df_top_20_fatality_rate['name']\n",
    "y = df_top_20_fatality_rate['fatality_ratio']\n",
    "plt.figure(figsize=(20,8))\n",
    "plt.bar(x,y)\n",
    "plt.xlabel('country name')\n",
    "plt.ylabel('fatality_rate')\n",
    "plt.title('top 20 highest fatality rate countries')\n",
    "plt.xticks(rotation=90)\n",
    "plt.show()"
   ]
  },
  {
   "cell_type": "code",
   "execution_count": 11,
   "metadata": {},
   "outputs": [
    {
     "name": "stderr",
     "output_type": "stream",
     "text": [
      "<ipython-input-11-596795edcb02>:5: FutureWarning: pandas.io.json.json_normalize is deprecated, use pandas.json_normalize instead\n",
      "  df_covid_timeline = pd.io.json.json_normalize(get_json(covid_timeline_url))\n"
     ]
    },
    {
     "name": "stdout",
     "output_type": "stream",
     "text": [
      "     country last_update  cases  deaths  recovered\n",
      "0         VN  2020-11-26   1331      35       1166\n",
      "1         VN  2020-11-25   1321      35       1153\n",
      "2         VN  2020-11-24   1316      35       1153\n",
      "3         VN  2020-11-23   1312      35       1151\n",
      "4         VN  2020-11-22   1307      35       1142\n",
      "...      ...         ...    ...     ...        ...\n",
      "1423      ID  2020-03-10     27       0          2\n",
      "1424      ID  2020-03-09     19       0          0\n",
      "1425      ID  2020-03-08      6       0          0\n",
      "1426      ID  2020-03-06      4       0          0\n",
      "1427      ID  2020-03-02      2       0          0\n",
      "\n",
      "[1428 rows x 5 columns]\n"
     ]
    }
   ],
   "source": [
    "countries = ['ID','MY','SG','TH','VN']\n",
    "i = 0\n",
    "for country in countries:\n",
    "    covid_timeline_url = 'https://covid19-api.org/api/timeline/' + country\n",
    "    df_covid_timeline = pd.io.json.json_normalize(get_json(covid_timeline_url))\n",
    "    df_covid_timeline['last_update'] = pd.to_datetime(df_covid_timeline['last_update'] , format='%Y-%m-%d %H:%M:%S')\n",
    "    df_covid_timeline['last_update'] = df_covid_timeline['last_update'].apply(lambda x: x.date())\n",
    "    if i==0:\n",
    "        df_covid_timeline_merged =  df_covid_timeline\n",
    "    else:\n",
    "        df_covid_timeline_merged =  df_covid_timeline.append(df_covid_timeline_merged , ignore_index=True)\n",
    "    i = i+1\n",
    "print(df_covid_timeline_merged)"
   ]
  },
  {
   "cell_type": "code",
   "execution_count": 21,
   "metadata": {},
   "outputs": [
    {
     "name": "stdout",
     "output_type": "stream",
     "text": [
      "           name country last_update   cases  deaths  recovered\n",
      "0     Indonesia      ID  2020-11-26  516753   16352     433649\n",
      "1     Indonesia      ID  2020-11-25  511836   16225     429807\n",
      "2     Indonesia      ID  2020-11-24  506302   16111     425313\n",
      "3     Indonesia      ID  2020-11-23  502110   16002     422386\n",
      "4     Indonesia      ID  2020-11-22  497668   15884     418188\n",
      "...         ...     ...         ...     ...     ...        ...\n",
      "1423   Viet Nam      VN  2020-01-27       2       0          0\n",
      "1424   Viet Nam      VN  2020-01-26       2       0          0\n",
      "1425   Viet Nam      VN  2020-01-25       2       0          0\n",
      "1426   Viet Nam      VN  2020-01-24       2       0          0\n",
      "1427   Viet Nam      VN  2020-01-23       2       0          0\n",
      "\n",
      "[1428 rows x 6 columns]\n"
     ]
    }
   ],
   "source": [
    "df_covid_timeline_denormalized = pd.merge(df_countries , df_covid_timeline_merged , on='country')\n",
    "for i in range(len(df_covid_timeline_denormalized)):\n",
    "    if df_covid_timeline_denormalized['last_update'][i] != '2020-11-26' :\n",
    "        df_covid_timeline_denormalized_new = df_covid_timeline_denormalized\n",
    "    elif df_covid_timeline_denormalized['last_update'][i] == '2020-11-26':\n",
    "        df_covid_timeline_denormalized_new = df_covid_timeline_denormalized.append(df_covid_timeline_denormalized_new)\n",
    "print(df_covid_timeline_denormalized_new)"
   ]
  },
  {
   "cell_type": "code",
   "execution_count": null,
   "metadata": {},
   "outputs": [],
   "source": []
  }
 ],
 "metadata": {
  "kernelspec": {
   "display_name": "Python 3",
   "language": "python",
   "name": "python3"
  },
  "language_info": {
   "codemirror_mode": {
    "name": "ipython",
    "version": 3
   },
   "file_extension": ".py",
   "mimetype": "text/x-python",
   "name": "python",
   "nbconvert_exporter": "python",
   "pygments_lexer": "ipython3",
   "version": "3.8.5"
  }
 },
 "nbformat": 4,
 "nbformat_minor": 4
}
